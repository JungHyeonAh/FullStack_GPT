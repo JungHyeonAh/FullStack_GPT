{
 "cells": [
  {
   "cell_type": "code",
   "execution_count": 2,
   "id": "c5e3cbbb",
   "metadata": {},
   "outputs": [],
   "source": [
    "from langchain.chat_models import ChatOpenAI\n",
    "from langchain.prompts import ChatPromptTemplate\n",
    "from langchain.callbacks import StreamingStdOutCallbackHandler\n",
    "\n",
    "# tem:창의성, str:응답 실시간으로 보기. call:문자 console에 print\n",
    "chat = ChatOpenAI(temperature=0.1, streaming=True, callbacks=[StreamingStdOutCallbackHandler()])"
   ]
  },
  {
   "cell_type": "code",
   "execution_count": 3,
   "id": "28d4c54a",
   "metadata": {},
   "outputs": [
    {
     "name": "stdout",
     "output_type": "stream",
     "text": [
      "In the realm of code, where logic reigns,\n",
      "A language strong, where beauty remains.\n",
      "C++ whispers tales of data and types,\n",
      "Of loops and arrays, where the program stripes.\n",
      "\n",
      "Like a craftsman, it weaves lines of code,\n",
      "Creating wonders, in a digital abode.\n",
      "With functions and classes, it builds a world,\n",
      "Where algorithms dance, and stories unfurled.\n",
      "\n",
      "So let us embrace this language of might,\n",
      "And let our programs soar to new height.\n",
      "For in the realm of code, where dreams take flight,\n",
      "C++ shines bright, a beacon of light.This poem is an ode to the programming language C++. It describes the world of coding as a realm where logic rules and beauty exists. The poet compares C++ to a skilled craftsman weaving lines of code to create wonders in a digital world. The language is praised for its ability to manipulate data, use different types, loops, and arrays to create programs that perform specific tasks. The poem emphasizes the power of C++ to build complex systems using functions and classes, where algorithms come to life and stories are told. Ultimately, the poet encourages embracing C++ as a powerful tool that can help programs reach new heights and turn dreams into reality in the world of coding."
     ]
    },
    {
     "data": {
      "text/plain": [
       "AIMessageChunk(content='This poem is an ode to the programming language C++. It describes the world of coding as a realm where logic rules and beauty exists. The poet compares C++ to a skilled craftsman weaving lines of code to create wonders in a digital world. The language is praised for its ability to manipulate data, use different types, loops, and arrays to create programs that perform specific tasks. The poem emphasizes the power of C++ to build complex systems using functions and classes, where algorithms come to life and stories are told. Ultimately, the poet encourages embracing C++ as a powerful tool that can help programs reach new heights and turn dreams into reality in the world of coding.')"
      ]
     },
     "execution_count": 3,
     "metadata": {},
     "output_type": "execute_result"
    }
   ],
   "source": [
    "# chain1 : 프로그래밍 언어를 활용해 시 쓰기\n",
    "poet_prompt = ChatPromptTemplate.from_messages([\n",
    "    (\"system\", \"You are one of the world's best poets who write poetry using programming languages.\\\n",
    "     Use programming languages ​​to write poems that even ordinary people can easily relate to.\"),\n",
    "    (\"human\", \"Create a poem using a {language}.\"),\n",
    "])\n",
    "poet_chain = poet_prompt | chat\n",
    "\n",
    "# chain2 : 시를 해석하고 설명함.\n",
    "comm_prompt = ChatPromptTemplate.from_messages([\n",
    "    (\"system\", \"You are a commentator with a remarkable ability to interpret poetry.\\\n",
    "     Interpret the meaning contained in the poem and explain it in simple terms\\\n",
    "      so that even people who don't know much about poetry can understand it.\"),\n",
    "    (\"human\", \"{poem}\")\n",
    "])\n",
    "comm_chain = comm_prompt | chat\n",
    "\n",
    "\n",
    "# chain1값을 chain2입력으로 넣는 작업.\n",
    "# chain2는 recipe값이 필요하기에 다음과 같이 작성함.\n",
    "final_chain = {\"poem\" : poet_chain} | comm_chain\n",
    "\n",
    "final_chain.invoke({\n",
    "    \"language\": \"C++\"\n",
    "})"
   ]
  },
  {
   "cell_type": "code",
   "execution_count": null,
   "id": "c29c0a0a",
   "metadata": {},
   "outputs": [],
   "source": []
  }
 ],
 "metadata": {
  "kernelspec": {
   "display_name": "venv",
   "language": "python",
   "name": "python3"
  },
  "language_info": {
   "codemirror_mode": {
    "name": "ipython",
    "version": 3
   },
   "file_extension": ".py",
   "mimetype": "text/x-python",
   "name": "python",
   "nbconvert_exporter": "python",
   "pygments_lexer": "ipython3",
   "version": "3.11.6"
  }
 },
 "nbformat": 4,
 "nbformat_minor": 5
}
