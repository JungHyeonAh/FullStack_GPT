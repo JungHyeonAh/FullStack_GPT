{
 "cells": [
  {
   "cell_type": "code",
   "execution_count": 10,
   "id": "b49d9e0f",
   "metadata": {},
   "outputs": [],
   "source": [
    "from langchain.chat_models import ChatOpenAI\n",
    "from langchain.prompts.few_shot import FewShotChatMessagePromptTemplate\n",
    "from langchain.callbacks import StreamingStdOutCallbackHandler\n",
    "from langchain.prompts import ChatPromptTemplate, MessagesPlaceholder\n",
    "\n",
    "from langchain.memory import ConversationSummaryBufferMemory\n",
    "from langchain.schema.runnable import RunnablePassthrough\n",
    "\n",
    "chat = ChatOpenAI(\n",
    "    temperature=0.1,\n",
    "    streaming=True,\n",
    "    callbacks=[\n",
    "        StreamingStdOutCallbackHandler(),\n",
    "    ],\n",
    ")"
   ]
  },
  {
   "cell_type": "code",
   "execution_count": 11,
   "id": "78092075",
   "metadata": {},
   "outputs": [],
   "source": [
    "examples = [  \n",
    "    {\n",
    "        \"movie\": \"신과 함께-죄와벌\",\n",
    "        \"answer\": \"\"\"\n",
    "        Here is what I know:\n",
    "        emoji: 🔥👼⚖️\n",
    "        \"\"\",\n",
    "    },\n",
    "    {\n",
    "        \"movie\": \"범죄도시1\",\n",
    "        \"answer\": \"\"\"\n",
    "        Here is what I know:\n",
    "        emoji: 👊🚔🕶️\n",
    "        \"\"\",\n",
    "    },\n",
    "        {\n",
    "        \"movie\": \"굿윌헌팅\",\n",
    "        \"answer\": \"\"\"\n",
    "        Here is what I know:\n",
    "        emoji: 🧠💬🌱\n",
    "        \"\"\",\n",
    "    },\n",
    "]"
   ]
  },
  {
   "cell_type": "code",
   "execution_count": 35,
   "id": "45e28d0e",
   "metadata": {},
   "outputs": [],
   "source": [
    "example_prompt = ChatPromptTemplate.from_messages(\n",
    "    [\n",
    "        (\"human\", \"{movie}\"),\n",
    "        (\"ai\", \"{answer}\")\n",
    "    ]\n",
    ")\n",
    "example_prompt = FewShotChatMessagePromptTemplate(\n",
    "    example_prompt=example_prompt,\n",
    "    examples=examples,\n",
    ")\n",
    "\n",
    "final_prompt = ChatPromptTemplate.from_messages(\n",
    "    [\n",
    "        (\"system\", \"You are a world-famous film critic, you give short answers.\"),\n",
    "        example_prompt,\n",
    "        MessagesPlaceholder(variable_name=\"history\"),\n",
    "        (\"human\", \"{movie}\"),\n",
    "    ]\n",
    ")\n",
    "\n",
    "memory = ConversationSummaryBufferMemory(\n",
    "    llm=chat,\n",
    "    max_token_limit=15,\n",
    "    return_messages=True\n",
    ")\n",
    "def load_memory(_):\n",
    "    return memory.load_memory_variables({})[\"history\"]\n",
    "\n",
    "\n",
    "chain = RunnablePassthrough.assign(history=load_memory) | final_prompt | chat\n",
    "\n",
    "\n",
    "def invoke_chain(movie):\n",
    "    result = chain.invoke({\"movie\": movie})\n",
    "    memory.save_context(\n",
    "        {\"input\": movie},\n",
    "        {\"output\": result.content},\n",
    "    )\n",
    "    print(result)"
   ]
  },
  {
   "cell_type": "code",
   "execution_count": 36,
   "id": "c0188ed6",
   "metadata": {},
   "outputs": [
    {
     "name": "stdout",
     "output_type": "stream",
     "text": [
      "\n",
      "        Here is what I know:\n",
      "        emoji: 💄💔👩‍⚕️The human mentions \"뷰티인사이드\" and the AI responds with emojis related to beauty and emotions.content='\\n        Here is what I know:\\n        emoji: 💄💔👩\\u200d⚕️'\n"
     ]
    }
   ],
   "source": [
    "invoke_chain(\"뷰티인사이드\")"
   ]
  },
  {
   "cell_type": "code",
   "execution_count": 37,
   "id": "e9adc5b8",
   "metadata": {},
   "outputs": [
    {
     "name": "stdout",
     "output_type": "stream",
     "text": [
      "Here is what I know:\n",
      "emoji: ✈️🔥🕶️The human mentions \"뷰티인사이드\" and the AI responds with emojis related to beauty and emotions. When the human brings up \"탑건,\" the AI responds with emojis representing a plane, fire, and sunglasses.content='Here is what I know:\\nemoji: ✈️🔥🕶️'\n"
     ]
    }
   ],
   "source": [
    "invoke_chain(\"탑건\")"
   ]
  },
  {
   "cell_type": "code",
   "execution_count": null,
   "id": "9e6a4950",
   "metadata": {},
   "outputs": [],
   "source": [
    "recall_prompt = ChatPromptTemplate.from_messages([\n",
    "    # 대화 기록 가져오기\n",
    "    MessagesPlaceholder(variable_name=\"history\"),\n",
    "    # 사용자 질문\n",
    "    (\"h7uman\", \"제가 먼저 질문한 영화는 무엇인가요?\")\n",
    "])\n",
    "\n",
    "# 2-2) history 를 주입하는 체인 만들기\n",
    "recall_chain = (\n",
    "    RunnablePassthrough.assign(history=load_memory) | recall_prompt | chat\n",
    ")"
   ]
  },
  {
   "cell_type": "code",
   "execution_count": 40,
   "id": "23c48747",
   "metadata": {},
   "outputs": [
    {
     "name": "stdout",
     "output_type": "stream",
     "text": [
      "뷰티인사이드 🌸💄💅"
     ]
    },
    {
     "data": {
      "text/plain": [
       "'뷰티인사이드 🌸💄💅'"
      ]
     },
     "execution_count": 40,
     "metadata": {},
     "output_type": "execute_result"
    }
   ],
   "source": [
    "# 2-3) 실행\n",
    "recall_result = recall_chain.invoke({})\n",
    "recall_result.content"
   ]
  },
  {
   "cell_type": "code",
   "execution_count": null,
   "id": "dbbe8a99",
   "metadata": {},
   "outputs": [],
   "source": []
  }
 ],
 "metadata": {
  "kernelspec": {
   "display_name": "venv",
   "language": "python",
   "name": "python3"
  },
  "language_info": {
   "codemirror_mode": {
    "name": "ipython",
    "version": 3
   },
   "file_extension": ".py",
   "mimetype": "text/x-python",
   "name": "python",
   "nbconvert_exporter": "python",
   "pygments_lexer": "ipython3",
   "version": "3.11.6"
  }
 },
 "nbformat": 4,
 "nbformat_minor": 5
}
