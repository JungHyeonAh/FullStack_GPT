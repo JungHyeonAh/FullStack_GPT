{
 "cells": [
  {
   "cell_type": "code",
   "execution_count": null,
   "metadata": {},
   "outputs": [],
   "source": [
    "from langchain.chat_models import ChatOpenAI\n",
    "from langchain.prompts import PromptTemplate, ChatPromptTemplate\n",
    "# chattem:template을 message로부터 만듬 / prompttem:string을 이용해 template만듬\n",
    "\n",
    "chat = ChatOpenAI(temperature=0.1)\n",
    "# b = chat.predict(\"How many planets are there?\")\n",
    "\n",
    "template = PromptTemplate.from_template(\"What is the distance between {country_a} and {country_b}\")\n",
    "\n",
    "prompt = template.format(country_a=\"Mexico\", country_b=\"Thailand\")\n",
    "\n",
    "chat.predict(prompt)"
   ]
  },
  {
   "cell_type": "code",
   "execution_count": null,
   "metadata": {},
   "outputs": [],
   "source": [
    "# 직접 message를 지정해서 실행. 사용할 라이브러리 다 불러와야 함.\n",
    "\n",
    "from langchain.schema import HumanMessage, AIMessage, SystemMessage\n",
    "# System:역할지정/ AI:ai 시작할 때 할말/ Human:물어볼 거.\n",
    "\n",
    "messages = [\n",
    "    SystemMessage(content=\"You are a geography expert. And you only reply in Italian.\"),\n",
    "    AIMessage(content=\"Ciao, mi chiamo Paolo!\"),\n",
    "    HumanMessage(content=\"What is the distance between Mexico and Thailand. Also, What is your name?\")\n",
    "]\n",
    "\n",
    "chat.predict_messages(messages)"
   ]
  },
  {
   "cell_type": "code",
   "execution_count": null,
   "metadata": {},
   "outputs": [],
   "source": [
    "# chatprompttemplate 사용해서 더 편하게 template 작성\n",
    "# 커스텀 하기 더 쉬어짐.\n",
    "template = ChatPromptTemplate.from_messages(\n",
    "    [\n",
    "        (\"system\", \"You are a geography expert. And you only reply in {language}.\"),\n",
    "        (\"ai\", \"Ciao, mi chiamo {name}\"),\n",
    "        (\"human\", \"What is the distance between {country_a} and {country_b}. Also, What is your name?\")\n",
    "    ]\n",
    ")\n",
    "\n",
    "prompt = template.from_messages(\n",
    "    language=\"Greak\",\n",
    "    name=\"Socrates\",\n",
    "    country_a=\"Mexico\",\n",
    "    country_b=\"Thailand\"\n",
    ")\n",
    "\n",
    "chat.predict_messages(prompt)"
   ]
  },
  {
   "cell_type": "markdown",
   "metadata": {},
   "source": [
    "## LangChain\n",
    "\n",
    "### Output Parser : 모델의 출력 처리, 결과를 원하는 형식으로 변환하는 역할."
   ]
  },
  {
   "cell_type": "code",
   "execution_count": 3,
   "metadata": {},
   "outputs": [],
   "source": [
    "from langchain.chat_models import ChatOpenAI\n",
    "from langchain.prompts import ChatPromptTemplate\n",
    "\n",
    "chat = ChatOpenAI(temperature=0.1)"
   ]
  },
  {
   "cell_type": "code",
   "execution_count": 2,
   "metadata": {},
   "outputs": [
    {
     "data": {
      "text/plain": [
       "['Hello', 'how', 'are', 'you']"
      ]
     },
     "execution_count": 2,
     "metadata": {},
     "output_type": "execute_result"
    }
   ],
   "source": [
    "from langchain.schema import BaseOutputParser\n",
    "\n",
    "class CommaOutputParser(BaseOutputParser):\n",
    "\n",
    "    def parse(self, text):\n",
    "        items = text.strip().split(\",\") #공백 제거, ','기준으로 잘라 array저장.\n",
    "        return list(map(str.strip,items)) #각 단어의 공백을 제거 후 list 저장.\n",
    "    \n",
    "#p = CommaOutputParser()\n",
    "#p.parse(\"Hello,how, are, you\")"
   ]
  },
  {
   "cell_type": "code",
   "execution_count": null,
   "metadata": {},
   "outputs": [],
   "source": [
    "template = ChatPromptTemplate.from_messages([\n",
    "    (\"system\",\n",
    "     \"You are a list generation machine. Everything you are asked will be\"\n",
    "     \"answered with a comma seperated list of max {max_items}. Do NOT reply with anything else.\",\n",
    "    ),\n",
    "    (\"human\", \"{question}\")\n",
    "])\n",
    "\n",
    "'''\n",
    "prompt=template.format_messages(\n",
    "    max_items=10,\n",
    "    question=\"What are the planets\"\n",
    ")\n",
    "\n",
    "# AIMessage(content='Mercury, Venus, Earth, Mars, Jupiter, Saturn, Uranus, Neptune, Pluto')\n",
    "result = chat.predict_messages(prompt)\n",
    "p = CommaOutputParser()\n",
    "\n",
    "p.parse(result.content) # result에서 content 값만 list만듬\n",
    "'''"
   ]
  },
  {
   "cell_type": "code",
   "execution_count": null,
   "metadata": {},
   "outputs": [],
   "source": [
    "# '|'을 사용해 chain 형성.\n",
    "# 순서대로 불러와서 처리해줌. chain끼리도 결합 가능.\n",
    "chain = template | chat | CommaOutputParser()\n",
    "\n",
    "chain.invoke({\n",
    "    \"max_items\":5,\n",
    "    \"question\":\"What are the pokemons\"\n",
    "})"
   ]
  },
  {
   "cell_type": "markdown",
   "metadata": {},
   "source": [
    "## Chain + Chain"
   ]
  },
  {
   "cell_type": "code",
   "execution_count": null,
   "metadata": {},
   "outputs": [
    {
     "data": {
      "text/plain": [
       "AIMessage(content=\"Thank you for sharing the recipe for Chicken Tikka Masala! As a vegetarian chef, I specialize in making traditional recipes vegetarian-friendly. In this case, the main ingredient is chicken, which I would replace with a plant-based alternative such as tofu or seitan.\\n\\nFor this recipe, you can substitute the chicken with extra-firm tofu or seitan. Here's how you can prepare them as a replacement:\\n\\n1. **Tofu**: \\n   - Use extra-firm tofu and press it to remove excess water. Cut the tofu into bite-sized cubes.\\n   - To add flavor, you can marinate the tofu in a mixture of soy sauce, garlic powder, ginger, and a touch of oil for at least 30 minutes.\\n   - After marinating, you can either pan-fry or bake the tofu until it is golden and slightly crispy.\\n\\n2. **Seitan**:\\n   - Seitan is a high-protein meat substitute made from wheat gluten. You can find it pre-made in many grocery stores or make your own.\\n   - If using pre-made seitan, simply cut it into bite-sized pieces and add it to the recipe as you would with the chicken.\\n   - If making your own seitan, you can find many recipes online that guide you through the process of making and cooking it.\\n\\nIf you have any other questions or need further assistance with vegetarian substitutions in recipes, feel free to ask!\")"
      ]
     },
     "execution_count": 11,
     "metadata": {},
     "output_type": "execute_result"
    }
   ],
   "source": [
    "from langchain.chat_models import ChatOpenAI\n",
    "from langchain.prompts import ChatPromptTemplate\n",
    "from langchain.callbacks import StreamingStdOutCallbackHandler\n",
    "\n",
    "# tem:창의성, str:응답 실시간으로 보기. call:문자 console에 print\n",
    "chat = ChatOpenAI(temperature=0.1, streaming=True, callbacks=[StreamingStdOutCallbackHandler()])\n",
    "\n",
    "# chain1 : 레시피 말하기\n",
    "chef_prompt = ChatPromptTemplate.from_messages([\n",
    "    (\"system\", \"You are a world-class international chef. You create easy to follow\\\n",
    "    recipies for any type of cuisine with easy to find ingredients. \"),\n",
    "    (\"human\", \"I want to cook {cuisine} food.\"),\n",
    "])\n",
    "chef_chain = chef_prompt | chat\n",
    "\n",
    "# chain2 : 레시피를 vegetarian 레시피로 변환. 레시피는 바꾸지 않고 재료만\n",
    "veg_chef_prompt = ChatPromptTemplate.from_messages([\n",
    "    (\"system\", \"You are a vegetarian chef specialized on making traditional recipies\\\n",
    "    vegetarian. You find alternative ingredients and explain their preparation. You\\\n",
    "     say you don't know how to replace it.\"),\n",
    "    (\"human\", \"{recipe}\")\n",
    "])\n",
    "veg_chain = veg_chef_prompt | chat\n",
    "\n",
    "\n",
    "# chain1값을 chain2입력으로 넣는 작업.\n",
    "# chain2는 recipe값이 필요하기에 다음과 같이 작성함.\n",
    "final_chain = {\"recipe\" : chef_chain} | veg_chain\n",
    "\n",
    "final_chain.invoke({\n",
    "    \"cuisine\": \"indian\"\n",
    "})"
   ]
  },
  {
   "cell_type": "code",
   "execution_count": null,
   "metadata": {},
   "outputs": [],
   "source": []
  }
 ],
 "metadata": {
  "kernelspec": {
   "display_name": "venv",
   "language": "python",
   "name": "python3"
  },
  "language_info": {
   "codemirror_mode": {
    "name": "ipython",
    "version": 3
   },
   "file_extension": ".py",
   "mimetype": "text/x-python",
   "name": "python",
   "nbconvert_exporter": "python",
   "pygments_lexer": "ipython3",
   "version": "3.11.6"
  }
 },
 "nbformat": 4,
 "nbformat_minor": 2
}
