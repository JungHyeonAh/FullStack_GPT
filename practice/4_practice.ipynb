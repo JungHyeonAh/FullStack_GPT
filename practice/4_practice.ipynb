{
 "cells": [
  {
   "cell_type": "code",
   "execution_count": null,
   "id": "1108ccc0",
   "metadata": {},
   "outputs": [],
   "source": [
    "from langchain.chat_models import ChatOpenAI\n",
    "from langchain.prompts.few_shot import FewShotChatMessagePromptTemplate\n",
    "from langchain.callbacks import StreamingStdOutCallbackHandler\n",
    "from langchain.prompts import ChatPromptTemplate\n",
    "\n",
    "chat = ChatOpenAI(\n",
    "    temperature=0.1,\n",
    "    streaming=True,\n",
    "    callbacks=[\n",
    "        StreamingStdOutCallbackHandler(),\n",
    "    ],\n",
    ")"
   ]
  },
  {
   "cell_type": "code",
   "execution_count": null,
   "id": "9ca22b91",
   "metadata": {},
   "outputs": [],
   "source": [
    "examples = [  \n",
    "    {\n",
    "        \"movie\": \"신과 함께-죄와벌\",\n",
    "        \"answer\": \"\"\"\n",
    "        Here is what I know:\n",
    "        director: 김용화\n",
    "        cast: 하정우, 차태현, 주지훈, 김향기\n",
    "        budget: 400억\n",
    "        box_office: 1157억\n",
    "        genre: 판타지, 드라마, 액션, 휴먼, 사회고발\n",
    "        sysnopsis: 저승 법에 의하면, 모든 인간은 사후 49일 동안 7번의 재판을 거친다. 7개의 재판을 무사히 통과한 망자만이 새로운 삶을 시작할 수 있다.\n",
    "        \"\"\",\n",
    "    },\n",
    "    {\n",
    "        \"movie\": \"범죄도시1\",\n",
    "        \"answer\": \"\"\"\n",
    "        Here is what I know:\n",
    "        director: 강윤성\n",
    "        cast: 마동석, 김홍백, 장원석\n",
    "        budget: 70억\n",
    "        box_office: 563억\n",
    "        genre: 범죄, 액션, 스릴러, 느와르, 블랙코미디, 형사\n",
    "        sysnopsis: 2004년 서울.. 하얼빈에서 넘어와 기존 조직을 장악하고 보스 황사장까지 위협하며 신흥범죄조직의 보스 장첸. 장첸 일당을 잡기 위해 마석도와 전일만 반장이 이끄는 강력반은 작전을 세운다.\n",
    "        \"\"\",\n",
    "    },\n",
    "        {\n",
    "        \"movie\": \"굿윌헌팅\",\n",
    "        \"answer\": \"\"\"\n",
    "        Here is what I know:\n",
    "        director: 구스 반 산트\n",
    "        cast: 로빈 윌리엄스, 맷 데이먼\n",
    "        budget: 142억\n",
    "        box_office: 3219억\n",
    "        genre: 드라마\n",
    "        sysnopsis: 어린 시절 학대 당한 천재 윌헌팅. 마음을 닫은 채 양아치로 자라 MIT 대학의 청소부로 일한다. 우연히 복도 칠판에 있는 문제를 보고 풀었고, 제랄드 램보 교수 눈의 들게 된다.\n",
    "        \"\"\",\n",
    "    },\n",
    "]"
   ]
  },
  {
   "cell_type": "code",
   "execution_count": 5,
   "id": "581154e2",
   "metadata": {},
   "outputs": [
    {
     "name": "stdout",
     "output_type": "stream",
     "text": [
      "\n",
      "        Here is what I know:\n",
      "        director: 백종열\n",
      "        cast: 박서준, 김다미\n",
      "        genre: 멜로, 로맨스, 판타지, 드라마\n",
      "        sysnopsis: 미남이지만 여성으로 태어난 영훈과 여성이지만 남성으로 태어난 미주. 서로의 몸에 갇혀 살게 된 두 사람은 서로의 몸을 바꾸기 위해 노력하면서 서로에 대한 이해와 사랑을 깨닫게 된다.\n",
      "        "
     ]
    },
    {
     "data": {
      "text/plain": [
       "AIMessageChunk(content='\\n        Here is what I know:\\n        director: 백종열\\n        cast: 박서준, 김다미\\n        genre: 멜로, 로맨스, 판타지, 드라마\\n        sysnopsis: 미남이지만 여성으로 태어난 영훈과 여성이지만 남성으로 태어난 미주. 서로의 몸에 갇혀 살게 된 두 사람은 서로의 몸을 바꾸기 위해 노력하면서 서로에 대한 이해와 사랑을 깨닫게 된다.\\n        ')"
      ]
     },
     "execution_count": 5,
     "metadata": {},
     "output_type": "execute_result"
    }
   ],
   "source": [
    "example_prompt = ChatPromptTemplate.from_messages(\n",
    "    [\n",
    "        (\"human\", \"{movie}에 대해 소개해줘.?\"),\n",
    "        (\"ai\", \"{answer}\"),\n",
    "    ]\n",
    ")\n",
    "\n",
    "example_prompt = FewShotChatMessagePromptTemplate(\n",
    "    example_prompt=example_prompt,\n",
    "    examples=examples,\n",
    ")\n",
    "\n",
    "final_prompt = ChatPromptTemplate.from_messages(\n",
    "    [\n",
    "        (\"system\", \"You are a world-famous film critic, you give short answers.\"),\n",
    "        example_prompt,\n",
    "        (\"human\", \"Tell me what kind of movie {movie} is?\"),\n",
    "    ]\n",
    ")\n",
    "\n",
    "chain = final_prompt | chat\n",
    "\n",
    "chain.invoke({\"movie\": \"뷰티인사이드`\"})"
   ]
  },
  {
   "cell_type": "code",
   "execution_count": null,
   "id": "46a60c4a",
   "metadata": {},
   "outputs": [],
   "source": []
  }
 ],
 "metadata": {
  "kernelspec": {
   "display_name": "venv",
   "language": "python",
   "name": "python3"
  },
  "language_info": {
   "codemirror_mode": {
    "name": "ipython",
    "version": 3
   },
   "file_extension": ".py",
   "mimetype": "text/x-python",
   "name": "python",
   "nbconvert_exporter": "python",
   "pygments_lexer": "ipython3",
   "version": "3.11.6"
  }
 },
 "nbformat": 4,
 "nbformat_minor": 5
}
