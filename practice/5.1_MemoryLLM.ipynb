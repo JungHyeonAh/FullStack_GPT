{
 "cells": [
  {
   "cell_type": "markdown",
   "id": "61e75d96",
   "metadata": {},
   "source": [
    "## 메모리 chain으로 연결하기.\n",
    "\n",
    "ConversationSummaryBufferMemory\n",
    "- save, load를 하지 않고 chain으로 연결해 자동으로 즉시 메모리 활용하기.\n",
    "- 요약하고 최근 대화 내용을 기억하지만, 챗봇으로 만들 경우 아래와 같이 template안에 이전 요약 내용을 넣어줘야 기억할 수 있음.\n",
    "- 요약내용은 verbose 덕에 확인 가능하며 System 다음 문장들임."
   ]
  },
  {
   "cell_type": "code",
   "execution_count": null,
   "id": "1320f39a",
   "metadata": {},
   "outputs": [],
   "source": [
    "from langchain.memory import ConversationSummaryBufferMemory\n",
    "from langchain.chat_models import ChatOpenAI\n",
    "from langchain.chains import LLMChain\n",
    "from langchain.prompts import PromptTemplate\n",
    "\n",
    "llm = ChatOpenAI(temperature=0.1)"
   ]
  },
  {
   "cell_type": "code",
   "execution_count": null,
   "id": "885ce9de",
   "metadata": {},
   "outputs": [],
   "source": [
    "\n",
    "memory = ConversationSummaryBufferMemory(\n",
    "    llm=llm,\n",
    "    max_token_limit=80,\n",
    "\n",
    "    # memory는 template 안 대화 기록 저장하는 공간 찾음.\n",
    "    memory_key=\"chat_history\"\n",
    ")\n",
    "\n",
    "# 템플릿 안에 history 저장하기 위해 chat_history 작성.\n",
    "template = \"\"\"\n",
    "    You are a helpful AI talking to a human.\n",
    "\n",
    "    {chat_history}\n",
    "    Human:{question}\n",
    "    You:\n",
    "\"\"\"\n",
    "\n",
    "# 문제점 1\n",
    "'''\n",
    "- memory에는 저장되지만, prompt에서는 저장되지 않음.   \n",
    "  -> question값만 전달하고 있어서 과거 내용을 기억 못함.\n",
    "\n",
    "chain = LLMChain(\n",
    "    llm=llm,\n",
    "    memory=memory,\n",
    "    prompt=PromptTemplate.from_template(\"{question}\"),\n",
    "    verbose=True   # 값을 chain에 보내고 실행했을 떄 chain의 프롬프트 로그 확인 가능\n",
    ")\n",
    "'''\n",
    "\n",
    "chain = LLMChain(\n",
    "    llm=llm,\n",
    "    memory=memory,\n",
    "    prompt=PromptTemplate.from_template(template),\n",
    "    verbose=True   # 값을 chain에 보내고 실행했을 떄 chain의 프롬프트 로그 확인 가능\n",
    ")"
   ]
  },
  {
   "cell_type": "code",
   "execution_count": 8,
   "id": "373bd7e0",
   "metadata": {},
   "outputs": [
    {
     "name": "stdout",
     "output_type": "stream",
     "text": [
      "\n",
      "\n",
      "\u001b[1m> Entering new LLMChain chain...\u001b[0m\n",
      "Prompt after formatting:\n",
      "\u001b[32;1m\u001b[1;3mMy name is Nico\u001b[0m\n",
      "\n",
      "\u001b[1m> Finished chain.\u001b[0m\n"
     ]
    },
    {
     "data": {
      "text/plain": [
       "'Nice to meet you, Nico! How can I assist you today?'"
      ]
     },
     "execution_count": 8,
     "metadata": {},
     "output_type": "execute_result"
    }
   ],
   "source": [
    "chain.predict(question=\"My name is Nico\")"
   ]
  },
  {
   "cell_type": "code",
   "execution_count": 2,
   "id": "ae31778c",
   "metadata": {},
   "outputs": [
    {
     "data": {
      "text/plain": [
       "\"That's great! Seoul is a vibrant and bustling city with a rich history and culture. There are so many things to see and do in Seoul, from exploring ancient palaces and temples to enjoying delicious Korean cuisine and shopping in trendy neighborhoods. What do you enjoy most about living in Seoul?\""
      ]
     },
     "execution_count": 2,
     "metadata": {},
     "output_type": "execute_result"
    }
   ],
   "source": [
    "chain.predict(question=\"I line in Seoul\")"
   ]
  },
  {
   "cell_type": "code",
   "execution_count": 10,
   "id": "0e438b0d",
   "metadata": {},
   "outputs": [
    {
     "name": "stdout",
     "output_type": "stream",
     "text": [
      "\n",
      "\n",
      "\u001b[1m> Entering new LLMChain chain...\u001b[0m\n",
      "Prompt after formatting:\n",
      "\u001b[32;1m\u001b[1;3mWhat is my name?\u001b[0m\n",
      "\n",
      "\u001b[1m> Finished chain.\u001b[0m\n"
     ]
    },
    {
     "data": {
      "text/plain": [
       "\"I'm sorry, I do not have access to personal information such as your name.\""
      ]
     },
     "execution_count": 10,
     "metadata": {},
     "output_type": "execute_result"
    }
   ],
   "source": [
    "chain.predict(question=\"What is my name?\")"
   ]
  },
  {
   "cell_type": "code",
   "execution_count": 11,
   "id": "6a6aef34",
   "metadata": {},
   "outputs": [
    {
     "data": {
      "text/plain": [
       "{'history': 'System: The human asks the AI for their name, but the AI responds that it does not have access to personal information like names. The human shares their name, \"Nice,\" and the AI greets Nice and offers assistance. When the human, Nico, shares their name, the AI reiterates its lack of access to personal information.\\nHuman: What is my name?\\nAI: I\\'m sorry, I do not know your name as I am an AI assistant and do not have access to personal information.\\nHuman: What is my name?\\nAI: I\\'m sorry, I do not have access to personal information such as your name.'}"
      ]
     },
     "execution_count": 11,
     "metadata": {},
     "output_type": "execute_result"
    }
   ],
   "source": [
    "memory.load_memory_variables({})"
   ]
  },
  {
   "cell_type": "code",
   "execution_count": null,
   "id": "2f3c2b58",
   "metadata": {},
   "outputs": [],
   "source": []
  }
 ],
 "metadata": {
  "kernelspec": {
   "display_name": "venv",
   "language": "python",
   "name": "python3"
  },
  "language_info": {
   "codemirror_mode": {
    "name": "ipython",
    "version": 3
   },
   "file_extension": ".py",
   "mimetype": "text/x-python",
   "name": "python",
   "nbconvert_exporter": "python",
   "pygments_lexer": "ipython3",
   "version": "3.11.6"
  }
 },
 "nbformat": 4,
 "nbformat_minor": 5
}
