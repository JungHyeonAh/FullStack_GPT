{
 "cells": [
  {
   "cell_type": "markdown",
   "id": "253812b1",
   "metadata": {},
   "source": [
    "## Langchain에서 사용가능한 메모리 5가지\n",
    "(당연히 다른 메모리들 더 있음.)"
   ]
  },
  {
   "cell_type": "markdown",
   "id": "01bd5916",
   "metadata": {},
   "source": [
    "1. ConversationBufferMemory\n",
    "- 대화 내용 전체를 저장 -> 길어지면 계속 쌓이기에 비효율적\n",
    "- text completion할 때 유용\n",
    "- 예측 혹은 텍스트 자동 완성\n",
    "- chat 모델로 활용 시 ai, human 메시지 다 필요"
   ]
  },
  {
   "cell_type": "code",
   "execution_count": null,
   "id": "a81f0859",
   "metadata": {},
   "outputs": [],
   "source": [
    "from langchain.memory import ConversationBufferMemory\n",
    "\n",
    "memory = ConversationBufferMemory()\n",
    "\n",
    "memory.save_context({\"input\":\"Hi!\"}, {\"output\": \"How are you?\"})\n",
    "\n",
    "memory.load_memory_variables({})"
   ]
  },
  {
   "cell_type": "markdown",
   "id": "fd1680a8",
   "metadata": {},
   "source": [
    "2. ConversationBufferWindowMemory\n",
    "- 대화 특정 부분만 저장. 제일 최근 정보만 저장하기에 오래된건 크기에 따라 폐기 됨.   \n",
    "  -> 메모리 특정 크기로 유지 가능.\n",
    "- 전체가 아닌 최근 대화에만 집중을 함. -> 오래된건 기억 못함."
   ]
  },
  {
   "cell_type": "code",
   "execution_count": 1,
   "id": "38fba545",
   "metadata": {},
   "outputs": [],
   "source": [
    "from langchain.memory import ConversationBufferWindowMemory\n",
    "\n",
    "memory = ConversationBufferWindowMemory(\n",
    "    return_messages=True,\n",
    "    k=4  # 메모리 저장 개수\n",
    ")\n",
    "\n",
    "def add_message(input, output):\n",
    "    memory.save_context({\"input\":input}, {\"output\": output})\n",
    "\n",
    "\n",
    "add_message(1,1)\n",
    "add_message(2,2)\n",
    "add_message(3,3)\n",
    "add_message(4,4)"
   ]
  },
  {
   "cell_type": "code",
   "execution_count": null,
   "id": "a674b1e2",
   "metadata": {},
   "outputs": [],
   "source": [
    "memory.load_memory_variables({})"
   ]
  },
  {
   "cell_type": "code",
   "execution_count": 3,
   "id": "d587baec",
   "metadata": {},
   "outputs": [],
   "source": [
    "add_message(5,5)"
   ]
  },
  {
   "cell_type": "markdown",
   "id": "462c638e",
   "metadata": {},
   "source": [
    "#### 여기 부터는 메모리 실행 시 비용 발생.\n",
    "\n",
    "3. ConversationSummaryMemory\n",
    "- 모든 문장을 저장하는 것이 아닌 대화를 요약함.   \n",
    "-> 매우 긴 문장일 경우 편리함.\n",
    "- 처음에 많은 토큰을 요할 수 있음. 하지만 문장이 길경우 요약하기에 더 효율적임."
   ]
  },
  {
   "cell_type": "code",
   "execution_count": 5,
   "id": "7cc0d7ec",
   "metadata": {},
   "outputs": [],
   "source": [
    "from langchain.memory import ConversationSummaryMemory\n",
    "from langchain.chat_models import ChatOpenAI\n",
    "\n",
    "llm = ChatOpenAI(temperature=0.1)\n",
    "\n",
    "memory = ConversationSummaryMemory(llm=llm)\n",
    "\n",
    "def add_message(input, output):\n",
    "    memory.save_context({\"input\":input}, {\"output\": output})\n",
    "\n",
    "def get_history():\n",
    "    return memory.load_memory_variables({})\n",
    "\n",
    "add_message(\"Hi I'm a Nicolas, I live in South Korea\", \"Wow that is so cool!\")"
   ]
  },
  {
   "cell_type": "code",
   "execution_count": 6,
   "id": "f20b884b",
   "metadata": {},
   "outputs": [],
   "source": [
    "add_message(\"South Korea is so pretty\", \"I wish I could go!!\")"
   ]
  },
  {
   "cell_type": "code",
   "execution_count": 7,
   "id": "6ddeb76c",
   "metadata": {},
   "outputs": [
    {
     "data": {
      "text/plain": [
       "{'history': 'Nicolas from South Korea introduces himself to the AI, who responds enthusiastically. The human mentions how pretty South Korea is, and the AI expresses a desire to visit.'}"
      ]
     },
     "execution_count": 7,
     "metadata": {},
     "output_type": "execute_result"
    }
   ],
   "source": [
    "get_history()"
   ]
  },
  {
   "cell_type": "markdown",
   "id": "d90efbf9",
   "metadata": {},
   "source": [
    "4. ConversationSummaryBufferMemory\n",
    "- summary + buffer : 요약과 최근 메모리 저장\n",
    "- 메시지 수 저장함.\n",
    "- limit에 다다르면, 잊는 대신 오래된 메시지를 요약함."
   ]
  },
  {
   "cell_type": "code",
   "execution_count": null,
   "id": "4766f234",
   "metadata": {},
   "outputs": [],
   "source": [
    "from langchain.memory import ConversationSummaryBufferMemory\n",
    "from langchain.chat_models import ChatOpenAI\n",
    "\n",
    "llm = ChatOpenAI(temperature=0.1)\n",
    "\n",
    "memory = ConversationSummaryBufferMemory(\n",
    "    llm=llm,\n",
    "    max_token_limit=150,\n",
    "    return_message=True)\n",
    "\n",
    "def add_message(input, output):\n",
    "    memory.save_context({\"input\":input}, {\"output\": output})\n",
    "\n",
    "def get_history():\n",
    "    return memory.load_memory_variables({})"
   ]
  },
  {
   "cell_type": "code",
   "execution_count": 5,
   "id": "369d50e6",
   "metadata": {},
   "outputs": [],
   "source": [
    "#add_message(\"Hi I'm a Nicolas, I live in South Korea\", \"Wow that is so cool!\")\n",
    "add_message(\"South Korea is so pretty\", \"I wish I could go!!\")"
   ]
  },
  {
   "cell_type": "code",
   "execution_count": 7,
   "id": "5b60494b",
   "metadata": {},
   "outputs": [
    {
     "data": {
      "text/plain": [
       "{'history': \"Human: Hi I'm a Nicolas, I live in South Korea\\nAI: Wow that is so cool!\\nHuman: South Korea is so pretty\\nAI: I wish I could go!!\"}"
      ]
     },
     "execution_count": 7,
     "metadata": {},
     "output_type": "execute_result"
    }
   ],
   "source": [
    "get_history()"
   ]
  },
  {
   "cell_type": "markdown",
   "id": "24b2876a",
   "metadata": {},
   "source": [
    "5. ConversationKGMemory\n",
    "- 가장 중요한 정보만을 뽑은 요약본 느낌."
   ]
  },
  {
   "cell_type": "code",
   "execution_count": 1,
   "id": "78915413",
   "metadata": {},
   "outputs": [],
   "source": [
    "from langchain.memory import ConversationKGMemory\n",
    "from langchain.chat_models import ChatOpenAI\n",
    "\n",
    "llm = ChatOpenAI(temperature=0.1)\n",
    "\n",
    "memory = ConversationKGMemory(\n",
    "    llm=llm,\n",
    "    return_message=True)\n",
    "\n",
    "def add_message(input, output):\n",
    "    memory.save_context({\"input\":input}, {\"output\": output})"
   ]
  },
  {
   "cell_type": "code",
   "execution_count": 6,
   "id": "1bc78ecf",
   "metadata": {},
   "outputs": [],
   "source": [
    "#add_message(\"Hi I'm a Nicolas, I live in South Korea\", \"Wow that is so cool!\")\n",
    "add_message(\"Nicolas likes kimchi.\", \"Wow that is so cool!\")"
   ]
  },
  {
   "cell_type": "code",
   "execution_count": 4,
   "id": "ed3ffcf1",
   "metadata": {},
   "outputs": [
    {
     "data": {
      "text/plain": [
       "{'history': 'On Nicolas: Nicolas lives in South Korea.'}"
      ]
     },
     "execution_count": 4,
     "metadata": {},
     "output_type": "execute_result"
    }
   ],
   "source": [
    "memory.load_memory_variables({\"input\": \"who is Nicolas?\"})"
   ]
  },
  {
   "cell_type": "code",
   "execution_count": 7,
   "id": "744e5748",
   "metadata": {},
   "outputs": [
    {
     "data": {
      "text/plain": [
       "{'history': 'On Nicolas: Nicolas lives in South Korea. Nicolas likes kimchi.'}"
      ]
     },
     "execution_count": 7,
     "metadata": {},
     "output_type": "execute_result"
    }
   ],
   "source": [
    "memory.load_memory_variables({\"input\": \"what does Nicolas like?\"})"
   ]
  },
  {
   "cell_type": "code",
   "execution_count": null,
   "id": "bd4c9ad7",
   "metadata": {},
   "outputs": [],
   "source": []
  }
 ],
 "metadata": {
  "kernelspec": {
   "display_name": "venv",
   "language": "python",
   "name": "python3"
  },
  "language_info": {
   "codemirror_mode": {
    "name": "ipython",
    "version": 3
   },
   "file_extension": ".py",
   "mimetype": "text/x-python",
   "name": "python",
   "nbconvert_exporter": "python",
   "pygments_lexer": "ipython3",
   "version": "3.11.6"
  }
 },
 "nbformat": 4,
 "nbformat_minor": 5
}
