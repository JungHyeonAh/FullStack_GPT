{
 "cells": [
  {
   "cell_type": "markdown",
   "id": "5aa51afb",
   "metadata": {},
   "source": [
    "# Model I/O\n",
    "\n",
    "\n",
    "prompt\n",
    "- prompt template를 디스크에 저장 및 load가능.\n",
    "\n",
    "FewShot\n",
    "- 모델에게 예제를 줌.\n",
    "\n",
    "어떤 식으로 말해야할지 알려줘야 하는 경우 prompt보다 fewshot이 더 좋음."
   ]
  },
  {
   "cell_type": "code",
   "execution_count": null,
   "id": "1d853e07",
   "metadata": {},
   "outputs": [
    {
     "data": {
      "text/plain": [
       "'What is the capital of France'"
      ]
     },
     "execution_count": 4,
     "metadata": {},
     "output_type": "execute_result"
    }
   ],
   "source": [
    "from langchain.chat_models import ChatOpenAI\n",
    "from langchain.prompts import PromptTemplate\n",
    "from langchain.callbacks import StreamingStdOutCallbackHandler\n",
    "from langchain.prompts.few_shot import FewShotPromptTemplate\n",
    "\n",
    "# tem:창의성, str:응답 실시간으로 보기. call:문자 console에 print\n",
    "chat = ChatOpenAI(temperature=0.1, streaming=True, callbacks=[StreamingStdOutCallbackHandler()])\n",
    "\n",
    "# prompt\n",
    "# prompt template 정의\n",
    "'''\n",
    "# 템플릿 정의하고 인스턴스 생성\n",
    "# 해당 방식은 단축키를 만드는 것과 동일.\n",
    "t = PromptTemplate.from_template(\"What is the capital of {country}\")\n",
    "\n",
    "# placeholder 채워서 prompt 완성\n",
    "# format() 실행 시 prompt가 어떤식으로 구성됐는지 확인 가능.\n",
    "p = t.format(country=\"France\") \n",
    "\n",
    "# 완성된 prompt 모델에게 질문\n",
    "chat.predict(p) \n",
    "'''"
   ]
  },
  {
   "cell_type": "markdown",
   "id": "07d78f0f",
   "metadata": {},
   "source": [
    "#### chatbot"
   ]
  },
  {
   "cell_type": "code",
   "execution_count": null,
   "id": "bc6f796a",
   "metadata": {},
   "outputs": [
    {
     "name": "stdout",
     "output_type": "stream",
     "text": [
      "Ai:\n",
      "        Here is what I know:\n",
      "        Capital: Berlin\n",
      "        Language: German\n",
      "        Food: Bratwurst and Sauerkraut\n",
      "        Currency: Euro"
     ]
    },
    {
     "data": {
      "text/plain": [
       "AIMessageChunk(content='Ai:\\n        Here is what I know:\\n        Capital: Berlin\\n        Language: German\\n        Food: Bratwurst and Sauerkraut\\n        Currency: Euro')"
      ]
     },
     "execution_count": 6,
     "metadata": {},
     "output_type": "execute_result"
    }
   ],
   "source": [
    "examples = [\n",
    "    {\n",
    "        \"question\": \"What do you know about France?\",\n",
    "        \"answer\": \"\"\"\n",
    "        Here is what I know:\n",
    "        Capital: Paris\n",
    "        Language: French\n",
    "        Food: Wine and Cheese\n",
    "        Currency: Euro\n",
    "        \"\"\",\n",
    "    },\n",
    "    {\n",
    "        \"question\": \"What do you know about Italy?\",\n",
    "        \"answer\": \"\"\"\n",
    "        Here is what I know:\n",
    "        Capital: Rome\n",
    "        Language: Italian\n",
    "        Food: Pizza and Pasta\n",
    "        Currency: Euro\n",
    "        \"\"\",\n",
    "    },\n",
    "    {\n",
    "        \"question\": \"What do you know about Greece?\",\n",
    "        \"answer\": \"\"\"\n",
    "        Here is what I know:\n",
    "        Capital: Athens\n",
    "        Language: Greek\n",
    "        Food: Souvlaki and Feta Cheese\n",
    "        Currency: Euro\n",
    "        \"\"\",\n",
    "    }\n",
    "]\n",
    "\n",
    "\n",
    "# 예제 리스트들을 prompt를 사용해 형식화 해줌.\n",
    "example_prompt = PromptTemplate.from_template(\"Human:{question}\\nAi:{answer}\")\n",
    "\n",
    "\n",
    "prompt = FewShotPromptTemplate(\n",
    "    # 각각의 예제(examples)를 가져와 example_prompt 이용해 prompt를 형식화하기.\n",
    "    example_prompt=example_prompt,\n",
    "    examples=examples,\n",
    "    # 마지막에 질문 넣기.\n",
    "    suffix=\"Human: What do you know about {country}?\", \n",
    "    input_variables=[\"country\"] # 어떤 변수 suffix에서 사용할지 지정.\n",
    ")\n",
    "\n",
    "# prompt 및 새로운 나라 입력 시 어떻게 작성되는지 확인\n",
    "# prompt.format(country=\"Germany\")\n",
    "\n",
    "chain = prompt | chat\n",
    "chain.invoke({\n",
    "    \"country\":\"Germany\"\n",
    "})"
   ]
  },
  {
   "cell_type": "code",
   "execution_count": null,
   "id": "dcf9d446",
   "metadata": {},
   "outputs": [],
   "source": []
  }
 ],
 "metadata": {
  "kernelspec": {
   "display_name": "venv",
   "language": "python",
   "name": "python3"
  },
  "language_info": {
   "codemirror_mode": {
    "name": "ipython",
    "version": 3
   },
   "file_extension": ".py",
   "mimetype": "text/x-python",
   "name": "python",
   "nbconvert_exporter": "python",
   "pygments_lexer": "ipython3",
   "version": "3.11.6"
  }
 },
 "nbformat": 4,
 "nbformat_minor": 5
}
